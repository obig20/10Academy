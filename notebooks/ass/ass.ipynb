{
 "cells": [
  {
   "cell_type": "code",
   "execution_count": 1,
   "metadata": {},
   "outputs": [],
   "source": [
    "import numpy as np\n",
    "import pandas as pd\n",
    "import matplotlib.pyplot as plt\n",
    "import seaborn as sns"
   ]
  },
  {
   "cell_type": "code",
   "execution_count": 2,
   "metadata": {},
   "outputs": [
    {
     "name": "stdout",
     "output_type": "stream",
     "text": [
      "C:\\Users\\h\\Desktop\\Kifiya_AI_mastering\\ass\n"
     ]
    }
   ],
   "source": [
    "import os\n",
    "print(os.getcwd())"
   ]
  },
  {
   "cell_type": "code",
   "execution_count": 9,
   "metadata": {},
   "outputs": [
    {
     "name": "stderr",
     "output_type": "stream",
     "text": [
      "C:\\Users\\h\\AppData\\Local\\Temp\\ipykernel_20176\\2145250241.py:1: DtypeWarning: Columns (1,2,3,4,5,6,7,8,9,10,11,12,13,14,15,16,17) have mixed types. Specify dtype option on import or set low_memory=False.\n",
      "  data = pd.read_csv(r'C:\\Users\\h\\Desktop\\Kifiya_AI_mastering\\ass\\solar-measurements_benin-malanville_qc.csv', encoding='cp1252')\n"
     ]
    },
    {
     "name": "stdout",
     "output_type": "stream",
     "text": [
      "          Timestamp   GHI   DNI   DHI  ModA  ModB  Tamb    RH   WS WSgust  \\\n",
      "0  yyyy-mm-dd hh:mm  W/m²  W/m²  W/m²  W/m²  W/m²    °C     %  m/s    m/s   \n",
      "1  2021-08-09 00:01  -1.2  -0.2  -1.1     0     0  26.2  93.4    0    0.4   \n",
      "2  2021-08-09 00:02  -1.1  -0.2  -1.1     0     0  26.2  93.6    0      0   \n",
      "3  2021-08-09 00:03  -1.1  -0.2  -1.1     0     0  26.2  93.7  0.3    1.1   \n",
      "4  2021-08-09 00:04  -1.1  -0.1    -1     0     0  26.2  93.3  0.2    0.7   \n",
      "\n",
      "  WSstdev            WD WDstdev   BP Cleaning Precipitation TModA TModB  \\\n",
      "0     m/s  °N (to east)       °  hPa   1 or 0        mm/min    °C    °C   \n",
      "1     0.1         122.1       0  998        0             0  26.3  26.2   \n",
      "2       0             0       0  998        0             0  26.3  26.2   \n",
      "3     0.5         124.6     1.5  997        0             0  26.4  26.2   \n",
      "4     0.4         120.3     1.3  997        0             0  26.4  26.3   \n",
      "\n",
      "   Comments  \n",
      "0       NaN  \n",
      "1       NaN  \n",
      "2       NaN  \n",
      "3       NaN  \n",
      "4       NaN  \n"
     ]
    }
   ],
   "source": [
    "data = pd.read_csv(r'C:\\Users\\h\\Desktop\\Kifiya_AI_mastering\\ass\\solar-measurements_benin-malanville_qc.csv', encoding='cp1252')\n",
    "print(data.head())"
   ]
  },
  {
   "cell_type": "code",
   "execution_count": 10,
   "metadata": {},
   "outputs": [
    {
     "data": {
      "text/html": [
       "<div>\n",
       "<style scoped>\n",
       "    .dataframe tbody tr th:only-of-type {\n",
       "        vertical-align: middle;\n",
       "    }\n",
       "\n",
       "    .dataframe tbody tr th {\n",
       "        vertical-align: top;\n",
       "    }\n",
       "\n",
       "    .dataframe thead th {\n",
       "        text-align: right;\n",
       "    }\n",
       "</style>\n",
       "<table border=\"1\" class=\"dataframe\">\n",
       "  <thead>\n",
       "    <tr style=\"text-align: right;\">\n",
       "      <th></th>\n",
       "      <th>Comments</th>\n",
       "    </tr>\n",
       "  </thead>\n",
       "  <tbody>\n",
       "    <tr>\n",
       "      <th>count</th>\n",
       "      <td>0.0</td>\n",
       "    </tr>\n",
       "    <tr>\n",
       "      <th>mean</th>\n",
       "      <td>NaN</td>\n",
       "    </tr>\n",
       "    <tr>\n",
       "      <th>std</th>\n",
       "      <td>NaN</td>\n",
       "    </tr>\n",
       "    <tr>\n",
       "      <th>min</th>\n",
       "      <td>NaN</td>\n",
       "    </tr>\n",
       "    <tr>\n",
       "      <th>25%</th>\n",
       "      <td>NaN</td>\n",
       "    </tr>\n",
       "    <tr>\n",
       "      <th>50%</th>\n",
       "      <td>NaN</td>\n",
       "    </tr>\n",
       "    <tr>\n",
       "      <th>75%</th>\n",
       "      <td>NaN</td>\n",
       "    </tr>\n",
       "    <tr>\n",
       "      <th>max</th>\n",
       "      <td>NaN</td>\n",
       "    </tr>\n",
       "  </tbody>\n",
       "</table>\n",
       "</div>"
      ],
      "text/plain": [
       "       Comments\n",
       "count       0.0\n",
       "mean        NaN\n",
       "std         NaN\n",
       "min         NaN\n",
       "25%         NaN\n",
       "50%         NaN\n",
       "75%         NaN\n",
       "max         NaN"
      ]
     },
     "execution_count": 10,
     "metadata": {},
     "output_type": "execute_result"
    }
   ],
   "source": [
    "data.describe()"
   ]
  },
  {
   "cell_type": "code",
   "execution_count": 11,
   "metadata": {},
   "outputs": [
    {
     "name": "stdout",
     "output_type": "stream",
     "text": [
      "<class 'pandas.core.frame.DataFrame'>\n",
      "RangeIndex: 525601 entries, 0 to 525600\n",
      "Data columns (total 19 columns):\n",
      " #   Column         Non-Null Count   Dtype  \n",
      "---  ------         --------------   -----  \n",
      " 0   Timestamp      525601 non-null  object \n",
      " 1   GHI            525601 non-null  object \n",
      " 2   DNI            525601 non-null  object \n",
      " 3   DHI            525601 non-null  object \n",
      " 4   ModA           525601 non-null  object \n",
      " 5   ModB           525601 non-null  object \n",
      " 6   Tamb           525601 non-null  object \n",
      " 7   RH             525601 non-null  object \n",
      " 8   WS             525601 non-null  object \n",
      " 9   WSgust         525601 non-null  object \n",
      " 10  WSstdev        525601 non-null  object \n",
      " 11  WD             525601 non-null  object \n",
      " 12  WDstdev        525601 non-null  object \n",
      " 13  BP             525601 non-null  object \n",
      " 14  Cleaning       525601 non-null  object \n",
      " 15  Precipitation  525601 non-null  object \n",
      " 16  TModA          525601 non-null  object \n",
      " 17  TModB          525601 non-null  object \n",
      " 18  Comments       0 non-null       float64\n",
      "dtypes: float64(1), object(18)\n",
      "memory usage: 76.2+ MB\n"
     ]
    }
   ],
   "source": [
    "data.info()"
   ]
  },
  {
   "cell_type": "code",
   "execution_count": 12,
   "metadata": {},
   "outputs": [
    {
     "name": "stdout",
     "output_type": "stream",
     "text": [
      "Timestamp             0\n",
      "GHI                   0\n",
      "DNI                   0\n",
      "DHI                   0\n",
      "ModA                  0\n",
      "ModB                  0\n",
      "Tamb                  0\n",
      "RH                    0\n",
      "WS                    0\n",
      "WSgust                0\n",
      "WSstdev               0\n",
      "WD                    0\n",
      "WDstdev               0\n",
      "BP                    0\n",
      "Cleaning              0\n",
      "Precipitation         0\n",
      "TModA                 0\n",
      "TModB                 0\n",
      "Comments         525601\n",
      "dtype: int64\n"
     ]
    }
   ],
   "source": [
    "print(data.isnull().sum())"
   ]
  },
  {
   "cell_type": "code",
   "execution_count": 13,
   "metadata": {},
   "outputs": [
    {
     "name": "stdout",
     "output_type": "stream",
     "text": [
      "          Timestamp   GHI   DNI   DHI  ModA  ModB  Tamb    RH   WS WSgust  \\\n",
      "0  yyyy-mm-dd hh:mm  W/m²  W/m²  W/m²  W/m²  W/m²    °C     %  m/s    m/s   \n",
      "1  2021-08-09 00:01  -1.2  -0.2  -1.1     0     0  26.2  93.4    0    0.4   \n",
      "2  2021-08-09 00:02  -1.1  -0.2  -1.1     0     0  26.2  93.6    0      0   \n",
      "3  2021-08-09 00:03  -1.1  -0.2  -1.1     0     0  26.2  93.7  0.3    1.1   \n",
      "4  2021-08-09 00:04  -1.1  -0.1    -1     0     0  26.2  93.3  0.2    0.7   \n",
      "\n",
      "  WSstdev            WD WDstdev   BP Cleaning Precipitation TModA TModB  \\\n",
      "0     m/s  °N (to east)       °  hPa   1 or 0        mm/min    °C    °C   \n",
      "1     0.1         122.1       0  998        0             0  26.3  26.2   \n",
      "2       0             0       0  998        0             0  26.3  26.2   \n",
      "3     0.5         124.6     1.5  997        0             0  26.4  26.2   \n",
      "4     0.4         120.3     1.3  997        0             0  26.4  26.3   \n",
      "\n",
      "   Comments  \n",
      "0       NaN  \n",
      "1       NaN  \n",
      "2       NaN  \n",
      "3       NaN  \n",
      "4       NaN  \n",
      "Timestamp         object\n",
      "GHI               object\n",
      "DNI               object\n",
      "DHI               object\n",
      "ModA              object\n",
      "ModB              object\n",
      "Tamb              object\n",
      "RH                object\n",
      "WS                object\n",
      "WSgust            object\n",
      "WSstdev           object\n",
      "WD                object\n",
      "WDstdev           object\n",
      "BP                object\n",
      "Cleaning          object\n",
      "Precipitation     object\n",
      "TModA             object\n",
      "TModB             object\n",
      "Comments         float64\n",
      "dtype: object\n",
      "Empty DataFrame\n",
      "Columns: [Timestamp, GHI, DNI, DHI, ModA, ModB, Tamb, RH, WS, WSgust, WSstdev, WD, WDstdev, BP, Cleaning, Precipitation, TModA, TModB, Comments]\n",
      "Index: []\n"
     ]
    }
   ],
   "source": [
    "import pandas as pd\n",
    "\n",
    "# Read the CSV file with specified encoding and low_memory=False\n",
    "data = pd.read_csv(\n",
    "    r'C:\\Users\\h\\Desktop\\Kifiya_AI_mastering\\ass\\solar-measurements_benin-malanville_qc.csv',\n",
    "    encoding='cp1252',\n",
    "    low_memory=False\n",
    ")\n",
    "\n",
    "# Print the first few rows of the DataFrame\n",
    "print(data.head())\n",
    "\n",
    "# Check data types\n",
    "print(data.dtypes)\n",
    "\n",
    "# Handle missing values by dropping them\n",
    "data_cleaned = data.dropna()\n",
    "\n",
    "# Print the first few rows of the cleaned DataFrame\n",
    "print(data_cleaned.head())\n"
   ]
  },
  {
   "cell_type": "code",
   "execution_count": 16,
   "metadata": {},
   "outputs": [],
   "source": [
    "data['GHI'] = pd.to_numeric(data['GHI'], errors='coerce')\n",
    "data['DNI'] = pd.to_numeric(data['DNI'], errors='coerce')\n",
    "data['Timestamp'] = pd.to_datetime(data['Timestamp'], errors='coerce')"
   ]
  },
  {
   "cell_type": "code",
   "execution_count": 19,
   "metadata": {},
   "outputs": [],
   "source": [
    "for col in ['GHI', 'DNI', 'DHI']:\n",
    "    data[col] = data[col].apply(lambda x: x if x >= 0 else np.nan)\n"
   ]
  },
  {
   "cell_type": "code",
   "execution_count": 18,
   "metadata": {},
   "outputs": [
    {
     "data": {
      "text/plain": [
       "Timestamp             1\n",
       "GHI              258848\n",
       "DNI              275988\n",
       "DHI              275988\n",
       "ModA                  0\n",
       "ModB                  0\n",
       "Tamb                  0\n",
       "RH                    0\n",
       "WS                    0\n",
       "WSgust                0\n",
       "WSstdev               0\n",
       "WD                    0\n",
       "WDstdev               0\n",
       "BP                    0\n",
       "Cleaning              0\n",
       "Precipitation         0\n",
       "TModA                 0\n",
       "TModB                 0\n",
       "Comments         525601\n",
       "dtype: int64"
      ]
     },
     "execution_count": 18,
     "metadata": {},
     "output_type": "execute_result"
    }
   ],
   "source": [
    "data.isna().sum()\n"
   ]
  },
  {
   "cell_type": "code",
   "execution_count": 20,
   "metadata": {},
   "outputs": [
    {
     "data": {
      "image/png": "[encoded data removed]",
      "text/plain": [
       "<Figure size 640x480 with 1 Axes>"
      ]
     },
     "metadata": {},
     "output_type": "display_data"
    }
   ],
   "source": [
    "import matplotlib.pyplot as plt\n",
    "plt.plot(data['Timestamp'], data['GHI'], label='GHI')\n",
    "plt.plot(data['Timestamp'], data['DNI'], label='DNI')\n",
    "plt.plot(data['Timestamp'], data['DHI'], label='DHI')\n",
    "plt.legend()\n",
    "plt.show()"
   ]
  },
  {
   "cell_type": "code",
   "execution_count": null,
   "metadata": {},
   "outputs": [],
   "source": []
  }
 ],
 "metadata": {
  "kernelspec": {
   "display_name": "Python (myenv)",
   "language": "python",
   "name": "myenv"
  },
  "language_info": {
   "codemirror_mode": {
    "name": "ipython",
    "version": 3
   },
   "file_extension": ".py",
   "mimetype": "text/x-python",
   "name": "python",
   "nbconvert_exporter": "python",
   "pygments_lexer": "ipython3",
   "version": "3.12.8"
  }
 },
 "nbformat": 4,
 "nbformat_minor": 4
}
